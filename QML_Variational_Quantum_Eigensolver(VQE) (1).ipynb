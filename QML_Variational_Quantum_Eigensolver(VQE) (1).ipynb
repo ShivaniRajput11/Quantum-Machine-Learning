{
 "cells": [
  {
   "cell_type": "code",
   "execution_count": 1,
   "id": "98cc4f74",
   "metadata": {},
   "outputs": [
    {
     "name": "stderr",
     "output_type": "stream",
     "text": [
      "C:\\Users\\Admin\\AppData\\Local\\Temp\\ipykernel_17960\\1337199979.py:5: DeprecationWarning: `np.complex` is a deprecated alias for the builtin `complex`. To silence this warning, use `complex` by itself. Doing this will not modify any behavior and is safe. If you specifically wanted the numpy scalar type, use `np.complex128` here.\n",
      "Deprecated in NumPy 1.20; for more details and guidance: https://numpy.org/devdocs/release/1.20.0-notes.html#deprecations\n",
      "  Y = np.array([[0,-np.complex(0,1)],[np.complex(0,1),0]])\n"
     ]
    }
   ],
   "source": [
    "from qiskit import *\n",
    "import numpy as np\n",
    "# Define the Pauli matrices\n",
    "X = np.array([[0,1],[1,0]])\n",
    "Y = np.array([[0,-np.complex(0,1)],[np.complex(0,1),0]])\n",
    "Z = np.array([[1,0],[0,-1]])"
   ]
  },
  {
   "cell_type": "code",
   "execution_count": 2,
   "id": "4509d14c",
   "metadata": {},
   "outputs": [
    {
     "name": "stdout",
     "output_type": "stream",
     "text": [
      "The XX gate is: \n",
      "[[0 0 0 1]\n",
      " [0 0 1 0]\n",
      " [0 1 0 0]\n",
      " [1 0 0 0]] \n",
      "\n",
      "The YY gate is: \n",
      "[[ 0.  0.  0. -1.]\n",
      " [ 0.  0.  1.  0.]\n",
      " [ 0.  1.  0.  0.]\n",
      " [-1.  0.  0.  0.]] \n",
      "\n",
      "The ZZ gate is: \n",
      "[[ 1  0  0  0]\n",
      " [ 0 -1  0  0]\n",
      " [ 0  0 -1  0]\n",
      " [ 0  0  0  1]] \n",
      "\n"
     ]
    }
   ],
   "source": [
    "XX = np.kron(X,X)\n",
    "YY = np.real(np.kron(Y,Y)) # This will be a real matrix\n",
    "ZZ = np.kron(Z,Z)\n",
    "II = np.identity(4)\n",
    "print(\"The XX gate is: \\n{} \\n\".format(XX))\n",
    "print(\"The YY gate is: \\n{} \\n\".format(YY))\n",
    "print(\"The ZZ gate is: \\n{} \\n\".format(ZZ))"
   ]
  },
  {
   "cell_type": "code",
   "execution_count": 4,
   "id": "d3992059",
   "metadata": {},
   "outputs": [
    {
     "name": "stdout",
     "output_type": "stream",
     "text": [
      "M = \n",
      " [[ 0.  0.  0.  0.]\n",
      " [ 0. -1.  1.  0.]\n",
      " [ 0.  1. -1.  0.]\n",
      " [ 0.  0.  0.  0.]]\n",
      "\n"
     ]
    }
   ],
   "source": [
    " #This is the decomposition of the \"M\" matrix\n",
    "M = (XX+YY+ZZ-II)/2\n",
    "print('M = \\n',M)\n",
    "print('')\n"
   ]
  },
  {
   "cell_type": "markdown",
   "id": "d39fa690",
   "metadata": {},
   "source": [
    "Ansatz\tfor\tthe\tVQE"
   ]
  },
  {
   "cell_type": "code",
   "execution_count": 5,
   "id": "c5c07145",
   "metadata": {},
   "outputs": [
    {
     "data": {
      "text/html": [
       "<pre style=\"word-wrap: normal;white-space: pre;background: #fff0;line-height: 1.1;font-family: &quot;Courier New&quot;,Courier,monospace\">      ┌───┐┌───────┐           ░ \n",
       "q0_0: ┤ H ├┤ Rz(π) ├──■────────░─\n",
       "      └───┘└───────┘┌─┴─┐┌───┐ ░ \n",
       "q0_1: ──────────────┤ X ├┤ X ├─░─\n",
       "                    └───┘└───┘ ░ \n",
       "c0: 2/═══════════════════════════\n",
       "                                 </pre>"
      ],
      "text/plain": [
       "      ┌───┐┌───────┐           ░ \n",
       "q0_0: ┤ H ├┤ Rz(π) ├──■────────░─\n",
       "      └───┘└───────┘┌─┴─┐┌───┐ ░ \n",
       "q0_1: ──────────────┤ X ├┤ X ├─░─\n",
       "                    └───┘└───┘ ░ \n",
       "c0: 2/═══════════════════════════\n",
       "                                 "
      ]
     },
     "execution_count": 5,
     "metadata": {},
     "output_type": "execute_result"
    }
   ],
   "source": [
    "# Visualize Ansatz-circuit\n",
    "theta=np.pi\n",
    "q = QuantumRegister(2)\n",
    "c = ClassicalRegister(2)\n",
    "circuit = QuantumCircuit(q,c)\n",
    "circuit.h(q[0])\n",
    "circuit.rz(theta,q[0])\n",
    "circuit.cx(q[0],q[1])\n",
    "circuit.x(q[1])\n",
    "circuit.barrier()\n",
    "circuit.draw()"
   ]
  },
  {
   "cell_type": "code",
   "execution_count": 6,
   "id": "efdef424",
   "metadata": {},
   "outputs": [],
   "source": [
    "def anzatz(circuit,q,c,theta):\n",
    " \n",
    "    circuit.h(q[0])\n",
    "    circuit.rz(theta,q[0])\n",
    "    circuit.cx(q[0],q[1])\n",
    "    circuit.x(q[1])\n",
    "    circuit.barrier()\n",
    "    return circuit"
   ]
  },
  {
   "cell_type": "code",
   "execution_count": 11,
   "id": "46a24807",
   "metadata": {},
   "outputs": [],
   "source": [
    "def measure_ZZ(circuit,N_shots=2**10,simulator_backend='qasm_simulator'):\n",
    "        simulator = Aer.get_backend(simulator_backend)\n",
    "        result = execute(circuit,backend=simulator,shots=N_shots).result()\n",
    "        items =result.get_counts().items()\n",
    "        s = 0\n",
    "        for key, counts in items:\n",
    "            s+= (-1)**(int(key[0])+int(key[1]))*counts\n",
    "        s = s/N_shots\n",
    "        return s"
   ]
  },
  {
   "cell_type": "code",
   "execution_count": 12,
   "id": "8ab14920",
   "metadata": {},
   "outputs": [],
   "source": [
    "def hamiltonian(theta,N_shots=2**10):\n",
    "    M = (1/2)*(XX+YY+ZZ-II)\n",
    "    q = QuantumRegister(2)\n",
    "    c = ClassicalRegister(2)\n",
    " ## 0.5*XX component\n",
    "    circuit_xx = QuantumCircuit(q,c)\n",
    "    circuit_xx = anzatz(circuit_xx,q,c,theta)\n",
    "    circuit_xx.h(q[0])\n",
    "    circuit_xx.h(q[1])\n",
    "    circuit_xx.measure(q,c)\n",
    "    \n",
    "    E_XX = 0.5*measure_ZZ(circuit_xx,N_shots=N_shots)\n",
    " ## 0.5*YY component\n",
    "    circuit_yy = QuantumCircuit(q,c)\n",
    "    circuit_yy = anzatz(circuit_yy,q,c,theta)\n",
    "    circuit_yy.sdg(q[0])\n",
    "    circuit_yy.h(q[0])\n",
    "    circuit_yy.sdg(q[1])\n",
    "    circuit_yy.h(q[1])\n",
    "    circuit_yy.measure(q,c)\n",
    " \n",
    "    E_YY= 0.5*measure_ZZ(circuit_yy,N_shots=N_shots)\n",
    " # 0.5*ZZ component\n",
    "    circuit_zz = QuantumCircuit(q,c)\n",
    "    circuit_zz = anzatz(circuit_zz,q,c,theta)\n",
    "    circuit_zz.measure(q,c)\n",
    "    \n",
    "    E_ZZ = 0.5*measure_ZZ(circuit_zz,N_shots=N_shots)\n",
    " # The - 1/2 comes from the fact that <psi|II|psi> = 1\n",
    " # it is always a constant\n",
    "    return (E_XX+E_YY+E_ZZ-0.5)"
   ]
  },
  {
   "cell_type": "code",
   "execution_count": 13,
   "id": "b19162aa",
   "metadata": {},
   "outputs": [
    {
     "data": {
      "image/png": "[encoded data removed]",
      "text/plain": [
       "<Figure size 432x288 with 1 Axes>"
      ]
     },
     "metadata": {
      "needs_background": "light"
     },
     "output_type": "display_data"
    },
    {
     "name": "stdout",
     "output_type": "stream",
     "text": [
      "====================================================================================================\n",
      "The minimum bound on the lowest eigenvalue of M is E0=-2.0,\n",
      "\n",
      "The parameter that corresponds to this energy is theta=3.13 Rads\n",
      "====================================================================================================\n"
     ]
    }
   ],
   "source": [
    "# Generate several thetas, and find the best set of parameters\n",
    "import matplotlib.pyplot as plt\n",
    "# The number of trials to run\n",
    "N_shots = 2**10\n",
    "# Generate theta grid\n",
    "theta = np.linspace(0.0,2*np.pi,200)\n",
    "E = np.zeros(len(theta))\n",
    "# Calculate the expectation value of the Hamiltonian for different\n",
    "theta\n",
    "for k in range(len(theta)):\n",
    "    E[k] = hamiltonian(theta=theta[k],N_shots=N_shots)\n",
    "# Plot the results\n",
    "plt.title('Expectation value vs Angle',fontsize=15)\n",
    "plt.ylabel('Expectation value of H',fontsize=15)\n",
    "plt.xlabel('Theta (radians)',fontsize=15)\n",
    "plt.plot(theta,E,label='Number of shots: {}'.format(N_shots))\n",
    "plt.legend()\n",
    "plt.show()\n",
    "# Determine the lowest bound from varying theta\n",
    "print('='*100)\n",
    "print('The minimum bound on the lowest eigenvalue of M is E0={},\\n'.format(min(E)))\n",
    "print('The parameter that corresponds to this energy is theta={:0.2f} Rads'.format(theta[np.argmin(E)]))\n",
    "print('='*100)"
   ]
  },
  {
   "cell_type": "code",
   "execution_count": 15,
   "id": "4b27d303",
   "metadata": {},
   "outputs": [
    {
     "name": "stdout",
     "output_type": "stream",
     "text": [
      "====================================================================================================\n",
      "Minimum eigenvalue using classical computer: Lambda= -2.00\n",
      "The minimum bound of the Eigenvalue from the quantum computing simulations is E=-2.00\n",
      "====================================================================================================\n"
     ]
    }
   ],
   "source": [
    "w, v = np.linalg.eig(M)\n",
    "print('='*100)\n",
    "print('Minimum eigenvalue using classical computer: Lambda= {:0.2f}'.format(min(w)))\n",
    "print('The minimum bound of the Eigenvalue from the quantum computing simulations is E={:0.2f}'.format(min(E)))\n",
    "print('='*100)"
   ]
  },
  {
   "cell_type": "code",
   "execution_count": null,
   "id": "814e9408",
   "metadata": {},
   "outputs": [],
   "source": []
  }
 ],
 "metadata": {
  "kernelspec": {
   "display_name": "Python 3 (ipykernel)",
   "language": "python",
   "name": "python3"
  },
  "language_info": {
   "codemirror_mode": {
    "name": "ipython",
    "version": 3
   },
   "file_extension": ".py",
   "mimetype": "text/x-python",
   "name": "python",
   "nbconvert_exporter": "python",
   "pygments_lexer": "ipython3",
   "version": "3.9.12"
  }
 },
 "nbformat": 4,
 "nbformat_minor": 5
}
