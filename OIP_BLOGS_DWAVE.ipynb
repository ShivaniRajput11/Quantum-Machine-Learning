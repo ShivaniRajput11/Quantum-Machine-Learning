{
 "cells": [
  {
   "cell_type": "code",
   "execution_count": 1,
   "id": "ef91b78f",
   "metadata": {},
   "outputs": [],
   "source": [
    "import numpy as np\n",
    "\n",
    "\n"
   ]
  },
  {
   "cell_type": "code",
   "execution_count": 2,
   "id": "c4f0cc89",
   "metadata": {},
   "outputs": [],
   "source": [
    "np.set_printoptions(precision=3, suppress=True)\n"
   ]
  },
  {
   "cell_type": "code",
   "execution_count": 3,
   "id": "691c0d07",
   "metadata": {},
   "outputs": [
    {
     "name": "stdout",
     "output_type": "stream",
     "text": [
      "[[0 1]\n",
      " [1 0]]\n"
     ]
    }
   ],
   "source": [
    "X = np.array([[0, 1], [1, 0]])\n",
    "print(X)"
   ]
  },
  {
   "cell_type": "code",
   "execution_count": 4,
   "id": "185a8e1f",
   "metadata": {},
   "outputs": [
    {
     "name": "stdout",
     "output_type": "stream",
     "text": [
      "[[0. 1. 0. 0.]\n",
      " [1. 0. 0. 0.]\n",
      " [0. 0. 0. 1.]\n",
      " [0. 0. 1. 0.]]\n"
     ]
    }
   ],
   "source": [
    "IX = np.kron(np.eye(2), X)                             \n",
    "print(IX)\n"
   ]
  },
  {
   "cell_type": "code",
   "execution_count": 5,
   "id": "24bfe904",
   "metadata": {},
   "outputs": [
    {
     "name": "stdout",
     "output_type": "stream",
     "text": [
      "[[0. 0. 1. 0.]\n",
      " [0. 0. 0. 1.]\n",
      " [1. 0. 0. 0.]\n",
      " [0. 1. 0. 0.]]\n"
     ]
    }
   ],
   "source": [
    "XI = np.kron(X, np.eye(2))\n",
    "print(XI)"
   ]
  },
  {
   "cell_type": "code",
   "execution_count": 6,
   "id": "d3cd1b9f",
   "metadata": {},
   "outputs": [
    {
     "name": "stdout",
     "output_type": "stream",
     "text": [
      "[[-0. -1. -1. -0.]\n",
      " [-1. -0. -0. -1.]\n",
      " [-1. -0. -0. -1.]\n",
      " [-0. -1. -1. -0.]]\n"
     ]
    }
   ],
   "source": [
    "P = - (IX + XI)\n",
    "print(P)"
   ]
  },
  {
   "cell_type": "code",
   "execution_count": 7,
   "id": "9b8a0fbf",
   "metadata": {},
   "outputs": [
    {
     "name": "stdout",
     "output_type": "stream",
     "text": [
      "Eigenvalues: [-2. -0.  0.  2.]\n",
      "Eigenstate for lowest eigenvalue [-0.5 -0.5 -0.5 -0.5]\n"
     ]
    }
   ],
   "source": [
    "λ, v = np.linalg.eigh(P)\n",
    "print(\"Eigenvalues:\", λ)\n",
    "print(\"Eigenstate for lowest eigenvalue\", v[:, 0])"
   ]
  },
  {
   "cell_type": "markdown",
   "id": "a23336b0",
   "metadata": {},
   "source": [
    "DWAVE Annealers"
   ]
  },
  {
   "cell_type": "code",
   "execution_count": 12,
   "id": "b8f2e155",
   "metadata": {},
   "outputs": [],
   "source": [
    "import dimod\n"
   ]
  },
  {
   "cell_type": "code",
   "execution_count": 13,
   "id": "c6af9df3",
   "metadata": {},
   "outputs": [
    {
     "name": "stdout",
     "output_type": "stream",
     "text": [
      "{'x': 3, 'y': 2, 'z': -5}\n"
     ]
    }
   ],
   "source": [
    "linear={('x'):3, ('y'):2, ('z'):-5}\n",
    "print(linear)\n"
   ]
  },
  {
   "cell_type": "code",
   "execution_count": 14,
   "id": "8d862731",
   "metadata": {},
   "outputs": [
    {
     "name": "stdout",
     "output_type": "stream",
     "text": [
      "{('x', 'y'): 1, ('x', 'z'): -3.5, ('y', 'z'): 4}\n"
     ]
    }
   ],
   "source": [
    "quadratic={('x','y'):1, ('x','z'):-3.5, ('y','z'):4}\n",
    "print(quadratic)"
   ]
  },
  {
   "cell_type": "code",
   "execution_count": 15,
   "id": "70d95401",
   "metadata": {},
   "outputs": [],
   "source": [
    "vartype = dimod.BINARY\n",
    "bqm = dimod.BinaryQuadraticModel(linear, quadratic,vartype)"
   ]
  },
  {
   "cell_type": "code",
   "execution_count": 16,
   "id": "636cf740",
   "metadata": {},
   "outputs": [
    {
     "name": "stdout",
     "output_type": "stream",
     "text": [
      "   x  y  z energy num_oc.\n",
      "6  1  0  1   -5.5       1\n",
      "7  0  0  1   -5.0       1\n",
      "0  0  0  0    0.0       1\n",
      "4  0  1  1    1.0       1\n",
      "5  1  1  1    1.5       1\n",
      "3  0  1  0    2.0       1\n",
      "1  1  0  0    3.0       1\n",
      "2  1  1  0    6.0       1\n",
      "['BINARY', 8 rows, 8 samples, 3 variables]\n"
     ]
    }
   ],
   "source": [
    "sampler = dimod.ExactSolver()\n",
    "response = sampler.sample(bqm)\n",
    "print(response)"
   ]
  },
  {
   "cell_type": "code",
   "execution_count": null,
   "id": "10e4cb19",
   "metadata": {},
   "outputs": [],
   "source": []
  }
 ],
 "metadata": {
  "kernelspec": {
   "display_name": "Python 3 (ipykernel)",
   "language": "python",
   "name": "python3"
  },
  "language_info": {
   "codemirror_mode": {
    "name": "ipython",
    "version": 3
   },
   "file_extension": ".py",
   "mimetype": "text/x-python",
   "name": "python",
   "nbconvert_exporter": "python",
   "pygments_lexer": "ipython3",
   "version": "3.9.12"
  }
 },
 "nbformat": 4,
 "nbformat_minor": 5
}
