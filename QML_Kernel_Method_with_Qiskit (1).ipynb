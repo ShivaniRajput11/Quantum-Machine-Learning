{
 "cells": [
  {
   "cell_type": "code",
   "execution_count": 2,
   "id": "6c15b1aa",
   "metadata": {},
   "outputs": [],
   "source": [
    "from qiskit import ClassicalRegister,QuantumRegister, QuantumCircuit\n",
    "from qiskit import execute\n",
    "from qiskit import BasicAer\n",
    "q = QuantumRegister(4)\n",
    "c = ClassicalRegister(4)\n",
    "backend = BasicAer.get_backend('qasm_simulator')"
   ]
  },
  {
   "cell_type": "code",
   "execution_count": 3,
   "id": "d8e08ef1",
   "metadata": {},
   "outputs": [],
   "source": [
    "training_set = [[0, 1], [0.78861006, 0.61489363]]\n",
    "labels = [0, 1]\n",
    "test_set = [[-0.549, 0.836], [0.053 , 0.999]]"
   ]
  },
  {
   "cell_type": "code",
   "execution_count": 4,
   "id": "6bd06c81",
   "metadata": {},
   "outputs": [],
   "source": [
    "test_angles = [4.30417579487669/2,3.0357101997648965/2]\n",
    "training_angle = 1.3245021469658966/4"
   ]
  },
  {
   "cell_type": "code",
   "execution_count": 5,
   "id": "edf2b4dc",
   "metadata": {},
   "outputs": [],
   "source": [
    "def prepare_state(q, c, angles):\n",
    "    ancilla_qubit = q[0]\n",
    "    index_qubit = q[1]\n",
    "    data_qubit = q[2]\n",
    "    class_qubit = q[3]\n",
    "    circuit = QuantumCircuit(q, c)\n",
    " # Ancilla and index qubits into uniform superposition\n",
    "    circuit.h(ancilla_qubit)\n",
    "    circuit.h(index_qubit)\n",
    "    \n",
    "# Prepare the test vector\n",
    "    circuit.cx(ancilla_qubit, data_qubit)\n",
    "    circuit.u3(-angles[0], 0, 0, data_qubit)\n",
    "    circuit.cx(ancilla_qubit, data_qubit)\n",
    "    circuit.u3(angles[0], 0, 0, data_qubit)\n",
    "    \n",
    "#Flip the ancilla qubit\n",
    "    circuit.x(ancilla_qubit)\n",
    "    circuit.barrier()\n",
    "    \n",
    "# Prepare the first training vector and We can prepare this with a Toffoli\n",
    "    circuit.ccx(ancilla_qubit, index_qubit,data_qubit)\n",
    "# Flip index qubit -> moves the first training vector to the\n",
    "# |0> state of the index qubit\n",
    "    circuit.x(index_qubit)\n",
    "    circuit.barrier()\n",
    "\n",
    "# Prepare the second training vector\n",
    "# [0.78861, 0.61489] -> class 1\n",
    "    circuit.ccx(ancilla_qubit, index_qubit,data_qubit)\n",
    "    circuit.cx(index_qubit, data_qubit)\n",
    "    circuit.u3(angles[1], 0, 0, data_qubit)\n",
    "    circuit.cx(index_qubit, data_qubit)\n",
    "    circuit.u3(-angles[1], 0, 0, data_qubit)\n",
    "    circuit.ccx(ancilla_qubit, index_qubit,data_qubit)\n",
    "    circuit.cx(index_qubit, data_qubit)\n",
    "    circuit.u3(-angles[1], 0, 0, data_qubit)\n",
    "    circuit.cx(index_qubit, data_qubit)\n",
    "    circuit.u3(angles[1], 0, 0, data_qubit)\n",
    "    circuit.barrier()\n",
    "    \n",
    "# Flip the class label for training vector #2\n",
    "    circuit.cx(index_qubit, class_qubit)\n",
    "    circuit.barrier()\n",
    "    return circuit\n",
    "   \n",
    "\n",
    "\n",
    "\n"
   ]
  },
  {
   "cell_type": "code",
   "execution_count": 6,
   "id": "2bd243b0",
   "metadata": {},
   "outputs": [
    {
     "name": "stderr",
     "output_type": "stream",
     "text": [
      "C:\\Users\\Admin\\AppData\\Local\\Temp\\ipykernel_12080\\1166823931.py:13: DeprecationWarning: The QuantumCircuit.u3 method is deprecated as of 0.16.0. It will be removed no earlier than 3 months after the release date. You should use QuantumCircuit.u instead, which acts identically. Alternatively, you can decompose u3 in terms of QuantumCircuit.p and QuantumCircuit.sx: u3(ϴ,φ,λ) = p(φ+π) sx p(ϴ+π) sx p(λ) (2 pulses on hardware).\n",
      "  circuit.u3(-angles[0], 0, 0, data_qubit)\n",
      "C:\\Users\\Admin\\AppData\\Local\\Temp\\ipykernel_12080\\1166823931.py:15: DeprecationWarning: The QuantumCircuit.u3 method is deprecated as of 0.16.0. It will be removed no earlier than 3 months after the release date. You should use QuantumCircuit.u instead, which acts identically. Alternatively, you can decompose u3 in terms of QuantumCircuit.p and QuantumCircuit.sx: u3(ϴ,φ,λ) = p(φ+π) sx p(ϴ+π) sx p(λ) (2 pulses on hardware).\n",
      "  circuit.u3(angles[0], 0, 0, data_qubit)\n",
      "C:\\Users\\Admin\\AppData\\Local\\Temp\\ipykernel_12080\\1166823931.py:32: DeprecationWarning: The QuantumCircuit.u3 method is deprecated as of 0.16.0. It will be removed no earlier than 3 months after the release date. You should use QuantumCircuit.u instead, which acts identically. Alternatively, you can decompose u3 in terms of QuantumCircuit.p and QuantumCircuit.sx: u3(ϴ,φ,λ) = p(φ+π) sx p(ϴ+π) sx p(λ) (2 pulses on hardware).\n",
      "  circuit.u3(angles[1], 0, 0, data_qubit)\n",
      "C:\\Users\\Admin\\AppData\\Local\\Temp\\ipykernel_12080\\1166823931.py:34: DeprecationWarning: The QuantumCircuit.u3 method is deprecated as of 0.16.0. It will be removed no earlier than 3 months after the release date. You should use QuantumCircuit.u instead, which acts identically. Alternatively, you can decompose u3 in terms of QuantumCircuit.p and QuantumCircuit.sx: u3(ϴ,φ,λ) = p(φ+π) sx p(ϴ+π) sx p(λ) (2 pulses on hardware).\n",
      "  circuit.u3(-angles[1], 0, 0, data_qubit)\n",
      "C:\\Users\\Admin\\AppData\\Local\\Temp\\ipykernel_12080\\1166823931.py:37: DeprecationWarning: The QuantumCircuit.u3 method is deprecated as of 0.16.0. It will be removed no earlier than 3 months after the release date. You should use QuantumCircuit.u instead, which acts identically. Alternatively, you can decompose u3 in terms of QuantumCircuit.p and QuantumCircuit.sx: u3(ϴ,φ,λ) = p(φ+π) sx p(ϴ+π) sx p(λ) (2 pulses on hardware).\n",
      "  circuit.u3(-angles[1], 0, 0, data_qubit)\n",
      "C:\\Users\\Admin\\AppData\\Local\\Temp\\ipykernel_12080\\1166823931.py:39: DeprecationWarning: The QuantumCircuit.u3 method is deprecated as of 0.16.0. It will be removed no earlier than 3 months after the release date. You should use QuantumCircuit.u instead, which acts identically. Alternatively, you can decompose u3 in terms of QuantumCircuit.p and QuantumCircuit.sx: u3(ϴ,φ,λ) = p(φ+π) sx p(ϴ+π) sx p(λ) (2 pulses on hardware).\n",
      "  circuit.u3(angles[1], 0, 0, data_qubit)\n"
     ]
    },
    {
     "data": {
      "text/html": [
       "<pre style=\"word-wrap: normal;white-space: pre;background: #fff0;line-height: 1.1;font-family: &quot;Courier New&quot;,Courier,monospace\">      ┌───┐                                   ┌───┐        ░            ░      »\n",
       "q0_0: ┤ H ├──■───────────────────────■────────┤ X ├────────░───■────────░───■──»\n",
       "      ├───┤  │                       │        └───┘        ░   │  ┌───┐ ░   │  »\n",
       "q0_1: ┤ H ├──┼───────────────────────┼─────────────────────░───■──┤ X ├─░───■──»\n",
       "      └───┘┌─┴─┐┌─────────────────┐┌─┴─┐┌────────────────┐ ░ ┌─┴─┐└───┘ ░ ┌─┴─┐»\n",
       "q0_2: ─────┤ X ├┤ U3(-2.1521,0,0) ├┤ X ├┤ U3(2.1521,0,0) ├─░─┤ X ├──────░─┤ X ├»\n",
       "           └───┘└─────────────────┘└───┘└────────────────┘ ░ └───┘      ░ └───┘»\n",
       "q0_3: ─────────────────────────────────────────────────────░────────────░──────»\n",
       "                                                           ░            ░      »\n",
       "c0: 4/═════════════════════════════════════════════════════════════════════════»\n",
       "                                                                               »\n",
       "«                                                                 »\n",
       "«q0_0: ───────────────────────────────────────────────────■───────»\n",
       "«                                                         │       »\n",
       "«q0_1: ──■───────────────────────■────────────────────────■────■──»\n",
       "«      ┌─┴─┐┌─────────────────┐┌─┴─┐┌──────────────────┐┌─┴─┐┌─┴─┐»\n",
       "«q0_2: ┤ X ├┤ U3(0.33113,0,0) ├┤ X ├┤ U3(-0.33113,0,0) ├┤ X ├┤ X ├»\n",
       "«      └───┘└─────────────────┘└───┘└──────────────────┘└───┘└───┘»\n",
       "«q0_3: ───────────────────────────────────────────────────────────»\n",
       "«                                                                 »\n",
       "«c0: 4/═══════════════════════════════════════════════════════════»\n",
       "«                                                                 »\n",
       "«                                                   ░       ░ \n",
       "«q0_0: ─────────────────────────────────────────────░───────░─\n",
       "«                                                   ░       ░ \n",
       "«q0_1: ──────────────────────■──────────────────────░───■───░─\n",
       "«      ┌──────────────────┐┌─┴─┐┌─────────────────┐ ░   │   ░ \n",
       "«q0_2: ┤ U3(-0.33113,0,0) ├┤ X ├┤ U3(0.33113,0,0) ├─░───┼───░─\n",
       "«      └──────────────────┘└───┘└─────────────────┘ ░ ┌─┴─┐ ░ \n",
       "«q0_3: ─────────────────────────────────────────────░─┤ X ├─░─\n",
       "«                                                   ░ └───┘ ░ \n",
       "«c0: 4/═══════════════════════════════════════════════════════\n",
       "«                                                             </pre>"
      ],
      "text/plain": [
       "      ┌───┐                                   ┌───┐        ░            ░      »\n",
       "q0_0: ┤ H ├──■───────────────────────■────────┤ X ├────────░───■────────░───■──»\n",
       "      ├───┤  │                       │        └───┘        ░   │  ┌───┐ ░   │  »\n",
       "q0_1: ┤ H ├──┼───────────────────────┼─────────────────────░───■──┤ X ├─░───■──»\n",
       "      └───┘┌─┴─┐┌─────────────────┐┌─┴─┐┌────────────────┐ ░ ┌─┴─┐└───┘ ░ ┌─┴─┐»\n",
       "q0_2: ─────┤ X ├┤ U3(-2.1521,0,0) ├┤ X ├┤ U3(2.1521,0,0) ├─░─┤ X ├──────░─┤ X ├»\n",
       "           └───┘└─────────────────┘└───┘└────────────────┘ ░ └───┘      ░ └───┘»\n",
       "q0_3: ─────────────────────────────────────────────────────░────────────░──────»\n",
       "                                                           ░            ░      »\n",
       "c0: 4/═════════════════════════════════════════════════════════════════════════»\n",
       "                                                                               »\n",
       "«                                                                 »\n",
       "«q0_0: ───────────────────────────────────────────────────■───────»\n",
       "«                                                         │       »\n",
       "«q0_1: ──■───────────────────────■────────────────────────■────■──»\n",
       "«      ┌─┴─┐┌─────────────────┐┌─┴─┐┌──────────────────┐┌─┴─┐┌─┴─┐»\n",
       "«q0_2: ┤ X ├┤ U3(0.33113,0,0) ├┤ X ├┤ U3(-0.33113,0,0) ├┤ X ├┤ X ├»\n",
       "«      └───┘└─────────────────┘└───┘└──────────────────┘└───┘└───┘»\n",
       "«q0_3: ───────────────────────────────────────────────────────────»\n",
       "«                                                                 »\n",
       "«c0: 4/═══════════════════════════════════════════════════════════»\n",
       "«                                                                 »\n",
       "«                                                   ░       ░ \n",
       "«q0_0: ─────────────────────────────────────────────░───────░─\n",
       "«                                                   ░       ░ \n",
       "«q0_1: ──────────────────────■──────────────────────░───■───░─\n",
       "«      ┌──────────────────┐┌─┴─┐┌─────────────────┐ ░   │   ░ \n",
       "«q0_2: ┤ U3(-0.33113,0,0) ├┤ X ├┤ U3(0.33113,0,0) ├─░───┼───░─\n",
       "«      └──────────────────┘└───┘└─────────────────┘ ░ ┌─┴─┐ ░ \n",
       "«q0_3: ─────────────────────────────────────────────░─┤ X ├─░─\n",
       "«                                                   ░ └───┘ ░ \n",
       "«c0: 4/═══════════════════════════════════════════════════════\n",
       "«                                                             "
      ]
     },
     "execution_count": 6,
     "metadata": {},
     "output_type": "execute_result"
    }
   ],
   "source": [
    "from qiskit.tools.visualization import circuit_drawer\n",
    "\n",
    "angles = [test_angles[0], training_angle]\n",
    "state_preparation_0 = prepare_state(q, c, angles)\n",
    "circuit_drawer(state_preparation_0)\n"
   ]
  },
  {
   "cell_type": "code",
   "execution_count": 7,
   "id": "2434c5c6",
   "metadata": {},
   "outputs": [],
   "source": [
    "def interfere_data_and_test_instances(circuit, q, c,angles):\n",
    "    circuit.h(q[0])\n",
    "    circuit.barrier()\n",
    "    circuit.measure(q, c)\n",
    "    return circuit\n"
   ]
  },
  {
   "cell_type": "code",
   "execution_count": 8,
   "id": "5eb869d4",
   "metadata": {},
   "outputs": [
    {
     "data": {
      "text/plain": [
       "[<matplotlib.lines.Line2D at 0x23b6a9543a0>]"
      ]
     },
     "execution_count": 8,
     "metadata": {},
     "output_type": "execute_result"
    },
    {
     "data": {
      "image/png": "[encoded data removed]",
      "text/plain": [
       "<Figure size 432x288 with 1 Axes>"
      ]
     },
     "metadata": {
      "needs_background": "light"
     },
     "output_type": "display_data"
    }
   ],
   "source": [
    "import matplotlib.pyplot as plt\n",
    "import numpy as np\n",
    "%matplotlib inline\n",
    "x = np.linspace(-2, 2, 100)\n",
    "plt.xlim(-2, 2)\n",
    "plt.ylim(0, 1.1)\n",
    "plt.plot(x, 1-x**2/4)\n"
   ]
  },
  {
   "cell_type": "code",
   "execution_count": null,
   "id": "ef532573",
   "metadata": {},
   "outputs": [],
   "source": []
  }
 ],
 "metadata": {
  "kernelspec": {
   "display_name": "Python 3 (ipykernel)",
   "language": "python",
   "name": "python3"
  },
  "language_info": {
   "codemirror_mode": {
    "name": "ipython",
    "version": 3
   },
   "file_extension": ".py",
   "mimetype": "text/x-python",
   "name": "python",
   "nbconvert_exporter": "python",
   "pygments_lexer": "ipython3",
   "version": "3.9.12"
  }
 },
 "nbformat": 4,
 "nbformat_minor": 5
}
